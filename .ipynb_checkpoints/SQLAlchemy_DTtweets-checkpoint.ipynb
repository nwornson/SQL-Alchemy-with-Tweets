{
 "cells": [
  {
   "cell_type": "code",
   "execution_count": 50,
   "metadata": {},
   "outputs": [],
   "source": [
    "# Dependencies\n",
    "# ----------------------------------\n",
    "# Imports the method used for connecting to DBs\n",
    "from sqlalchemy import create_engine\n",
    "\n",
    "# Imports the methods needed to abstract classes into tables\n",
    "from sqlalchemy.ext.declarative import declarative_base\n",
    "\n",
    "# Allow us to declare column types\n",
    "from sqlalchemy import Column, Integer, String, Float, Date\n",
    "\n",
    "# Import the data\n",
    "import pandas as pd\n",
    "\n",
    "\n",
    "\n",
    "import matplotlib.pyplot as plt\n",
    "%matplotlib inline"
   ]
  },
  {
   "cell_type": "markdown",
   "metadata": {},
   "source": [
    "To get a feel for sqlalchemy, this is an excercise in creating a database in SQLite.  The data here was scraped from Donald Trump's twitter account.  "
   ]
  },
  {
   "cell_type": "code",
   "execution_count": 2,
   "metadata": {},
   "outputs": [],
   "source": [
    "# the data\n",
    "data = pd.read_csv('realdonaldtrump.csv',parse_dates =  ['created_at'])"
   ]
  },
  {
   "cell_type": "code",
   "execution_count": 44,
   "metadata": {},
   "outputs": [
    {
     "name": "stdout",
     "output_type": "stream",
     "text": [
      "<class 'pandas.core.frame.DataFrame'>\n",
      "RangeIndex: 19962 entries, 0 to 19961\n",
      "Data columns (total 8 columns):\n",
      "favorite_count             19962 non-null int64\n",
      "source                     19962 non-null object\n",
      "text                       19962 non-null object\n",
      "in_reply_to_screen_name    650 non-null object\n",
      "is_retweet                 19962 non-null bool\n",
      "created_at                 19962 non-null datetime64[ns, UTC]\n",
      "retweet_count              19962 non-null int64\n",
      "id_str                     19962 non-null int64\n",
      "dtypes: bool(1), datetime64[ns, UTC](1), int64(3), object(3)\n",
      "memory usage: 1.1+ MB\n"
     ]
    }
   ],
   "source": [
    "data.info()"
   ]
  },
  {
   "cell_type": "code",
   "execution_count": 3,
   "metadata": {},
   "outputs": [
    {
     "data": {
      "text/plain": [
       "(19962, 4)"
      ]
     },
     "execution_count": 3,
     "metadata": {},
     "output_type": "execute_result"
    }
   ],
   "source": [
    "# remove some unwanted features\n",
    "fdata = data[['favorite_count','text','created_at','retweet_count']]\n",
    "fdata.shape"
   ]
  },
  {
   "cell_type": "code",
   "execution_count": 30,
   "metadata": {},
   "outputs": [],
   "source": [
    "# Create Classes\n",
    "# ----------------------------------\n",
    "\n",
    "# Sets an object to utilize the default declarative base in SQL Alchemy\n",
    "#Base = declarative_base()\n",
    "\n",
    "\n",
    "# Creates Classes which will serve as the anchor points for our Tables\n",
    "#class Tweet(Base):\n",
    "#    __tablename__ = 'dt_tweets'\n",
    "#    id = Column(Integer, primary_key=True)\n",
    "#    favorite_count = Column(Integer)\n",
    "#    text = Column(String(255))\n",
    "#    created_at = Column(Date)\n",
    "#    retweet_count = Column(Integer)\n"
   ]
  },
  {
   "cell_type": "code",
   "execution_count": 7,
   "metadata": {},
   "outputs": [],
   "source": [
    "\n",
    "# Create Database Connection\n",
    "# ----------------------------------\n",
    "# Creates a connection to our DB\n",
    "database_path = '../dt_tweets.sqlite'\n",
    "# Create Engine\n",
    "engine = create_engine(f\"sqlite:///{database_path}\")\n",
    "conn = engine.connect()"
   ]
  },
  {
   "cell_type": "code",
   "execution_count": 8,
   "metadata": {},
   "outputs": [],
   "source": [
    "fdata.to_sql('dt_tweets',con = engine,if_exists = 'replace')"
   ]
  },
  {
   "cell_type": "code",
   "execution_count": 9,
   "metadata": {},
   "outputs": [],
   "source": [
    "# Query the Tables\n",
    "# ----------------------------------\n",
    "# Perform a simple query of the database\n",
    "pdata = pd.read_sql('select * from dt_tweets',conn)\n"
   ]
  },
  {
   "cell_type": "code",
   "execution_count": 10,
   "metadata": {},
   "outputs": [],
   "source": [
    "#  get year, month, day data\n",
    "pdata['year'] = pdata['created_at'].str[:4]\n",
    "pdata['month'] = pdata['created_at'].str[5:7]\n",
    "pdata['day'] = pdata['created_at'].str[8:10]"
   ]
  },
  {
   "cell_type": "code",
   "execution_count": 66,
   "metadata": {},
   "outputs": [],
   "source": [
    "# Occurences of the term 'Fake News'\n",
    "def cfn(x):\n",
    "    if 'fake news' in x.lower():\n",
    "        count = 1\n",
    "    else: \n",
    "        count = 0\n",
    "    return (count)\n",
    "    \n",
    "pdata['fn_count'] = pdata['text'].apply(lambda x: cfn(x))\n"
   ]
  },
  {
   "cell_type": "code",
   "execution_count": 65,
   "metadata": {},
   "outputs": [
    {
     "data": {
      "text/plain": [
       "True"
      ]
     },
     "execution_count": 65,
     "metadata": {},
     "output_type": "execute_result"
    }
   ],
   "source": [
    "'you can' in pdata['text'][0].lower()"
   ]
  },
  {
   "cell_type": "code",
   "execution_count": 67,
   "metadata": {},
   "outputs": [
    {
     "data": {
      "text/html": [
       "<div>\n",
       "<style scoped>\n",
       "    .dataframe tbody tr th:only-of-type {\n",
       "        vertical-align: middle;\n",
       "    }\n",
       "\n",
       "    .dataframe tbody tr th {\n",
       "        vertical-align: top;\n",
       "    }\n",
       "\n",
       "    .dataframe thead th {\n",
       "        text-align: right;\n",
       "    }\n",
       "</style>\n",
       "<table border=\"1\" class=\"dataframe\">\n",
       "  <thead>\n",
       "    <tr style=\"text-align: right;\">\n",
       "      <th></th>\n",
       "      <th>text</th>\n",
       "      <th>year</th>\n",
       "      <th>fn_count</th>\n",
       "    </tr>\n",
       "  </thead>\n",
       "  <tbody>\n",
       "    <tr>\n",
       "      <th>3480</th>\n",
       "      <td>We have many problems in our house (country!),...</td>\n",
       "      <td>2015</td>\n",
       "      <td>0</td>\n",
       "    </tr>\n",
       "    <tr>\n",
       "      <th>16645</th>\n",
       "      <td>.@danielhalper  Great job on @CNN today. Very ...</td>\n",
       "      <td>2015</td>\n",
       "      <td>0</td>\n",
       "    </tr>\n",
       "    <tr>\n",
       "      <th>15720</th>\n",
       "      <td>\"@deedeegop: Thank u Mr. Trump, I look forward...</td>\n",
       "      <td>2015</td>\n",
       "      <td>0</td>\n",
       "    </tr>\n",
       "    <tr>\n",
       "      <th>13327</th>\n",
       "      <td>.@deedeesorvino was GREAT today on @FoxNews  S...</td>\n",
       "      <td>2015</td>\n",
       "      <td>0</td>\n",
       "    </tr>\n",
       "    <tr>\n",
       "      <th>13003</th>\n",
       "      <td>The same people that said I wouldn't run, or t...</td>\n",
       "      <td>2015</td>\n",
       "      <td>0</td>\n",
       "    </tr>\n",
       "    <tr>\n",
       "      <th>12596</th>\n",
       "      <td>Merry Christmas to all. Have a great day and h...</td>\n",
       "      <td>2015</td>\n",
       "      <td>0</td>\n",
       "    </tr>\n",
       "    <tr>\n",
       "      <th>12289</th>\n",
       "      <td>.@HallieJackson Why didn't you report Hillary ...</td>\n",
       "      <td>2015</td>\n",
       "      <td>0</td>\n",
       "    </tr>\n",
       "    <tr>\n",
       "      <th>12266</th>\n",
       "      <td>\"@Jacobsac2015:  @FoxNews Thank you for your t...</td>\n",
       "      <td>2015</td>\n",
       "      <td>0</td>\n",
       "    </tr>\n",
       "    <tr>\n",
       "      <th>18652</th>\n",
       "      <td>Does everyone see that the Democrats and Presi...</td>\n",
       "      <td>2015</td>\n",
       "      <td>0</td>\n",
       "    </tr>\n",
       "    <tr>\n",
       "      <th>11091</th>\n",
       "      <td>When will the Democrats, and Hillary in partic...</td>\n",
       "      <td>2015</td>\n",
       "      <td>0</td>\n",
       "    </tr>\n",
       "    <tr>\n",
       "      <th>11728</th>\n",
       "      <td>\"@JodiL792:  You know what's making my Christm...</td>\n",
       "      <td>2015</td>\n",
       "      <td>0</td>\n",
       "    </tr>\n",
       "    <tr>\n",
       "      <th>10223</th>\n",
       "      <td>@CNN just announced that TRUMP was #1 story of...</td>\n",
       "      <td>2015</td>\n",
       "      <td>0</td>\n",
       "    </tr>\n",
       "    <tr>\n",
       "      <th>6615</th>\n",
       "      <td>\"@YesMrGilbert: @NBCNightlyNews @HallieJackson...</td>\n",
       "      <td>2015</td>\n",
       "      <td>0</td>\n",
       "    </tr>\n",
       "    <tr>\n",
       "      <th>6443</th>\n",
       "      <td>.@chucktodd is so dishonest in his reporting.....</td>\n",
       "      <td>2015</td>\n",
       "      <td>0</td>\n",
       "    </tr>\n",
       "    <tr>\n",
       "      <th>5905</th>\n",
       "      <td>\"@ClassySnobbb: @realDonaldTrump @FoxNews I'm ...</td>\n",
       "      <td>2015</td>\n",
       "      <td>0</td>\n",
       "    </tr>\n",
       "    <tr>\n",
       "      <th>4360</th>\n",
       "      <td>Our great VETERANS are being treated very badl...</td>\n",
       "      <td>2015</td>\n",
       "      <td>0</td>\n",
       "    </tr>\n",
       "    <tr>\n",
       "      <th>10281</th>\n",
       "      <td>Remember when failed candidate @JebBush said t...</td>\n",
       "      <td>2015</td>\n",
       "      <td>0</td>\n",
       "    </tr>\n",
       "    <tr>\n",
       "      <th>8113</th>\n",
       "      <td>#MerryChristmas https://t.co/5GgDmJrGMS</td>\n",
       "      <td>2016</td>\n",
       "      <td>0</td>\n",
       "    </tr>\n",
       "    <tr>\n",
       "      <th>18995</th>\n",
       "      <td>Merry Christmas and a very, very, very , very ...</td>\n",
       "      <td>2016</td>\n",
       "      <td>0</td>\n",
       "    </tr>\n",
       "    <tr>\n",
       "      <th>9220</th>\n",
       "      <td>I hope everyone is having a great Christmas, t...</td>\n",
       "      <td>2017</td>\n",
       "      <td>0</td>\n",
       "    </tr>\n",
       "    <tr>\n",
       "      <th>6712</th>\n",
       "      <td>MERRY CHRISTMAS!!! https://t.co/mYtV5GNdLl</td>\n",
       "      <td>2017</td>\n",
       "      <td>0</td>\n",
       "    </tr>\n",
       "    <tr>\n",
       "      <th>6390</th>\n",
       "      <td>People are proud to be saying Merry Christmas ...</td>\n",
       "      <td>2017</td>\n",
       "      <td>0</td>\n",
       "    </tr>\n",
       "    <tr>\n",
       "      <th>17297</th>\n",
       "      <td>MERRY CHRISTMAS!! https://t.co/xa2qxcisVV</td>\n",
       "      <td>2017</td>\n",
       "      <td>0</td>\n",
       "    </tr>\n",
       "    <tr>\n",
       "      <th>14385</th>\n",
       "      <td>Merry Christmas!</td>\n",
       "      <td>2018</td>\n",
       "      <td>0</td>\n",
       "    </tr>\n",
       "    <tr>\n",
       "      <th>18515</th>\n",
       "      <td>I hope everyone, even the Fake News Media, is ...</td>\n",
       "      <td>2018</td>\n",
       "      <td>1</td>\n",
       "    </tr>\n",
       "  </tbody>\n",
       "</table>\n",
       "</div>"
      ],
      "text/plain": [
       "                                                    text  year  fn_count\n",
       "3480   We have many problems in our house (country!),...  2015         0\n",
       "16645  .@danielhalper  Great job on @CNN today. Very ...  2015         0\n",
       "15720  \"@deedeegop: Thank u Mr. Trump, I look forward...  2015         0\n",
       "13327  .@deedeesorvino was GREAT today on @FoxNews  S...  2015         0\n",
       "13003  The same people that said I wouldn't run, or t...  2015         0\n",
       "12596  Merry Christmas to all. Have a great day and h...  2015         0\n",
       "12289  .@HallieJackson Why didn't you report Hillary ...  2015         0\n",
       "12266  \"@Jacobsac2015:  @FoxNews Thank you for your t...  2015         0\n",
       "18652  Does everyone see that the Democrats and Presi...  2015         0\n",
       "11091  When will the Democrats, and Hillary in partic...  2015         0\n",
       "11728  \"@JodiL792:  You know what's making my Christm...  2015         0\n",
       "10223  @CNN just announced that TRUMP was #1 story of...  2015         0\n",
       "6615   \"@YesMrGilbert: @NBCNightlyNews @HallieJackson...  2015         0\n",
       "6443   .@chucktodd is so dishonest in his reporting.....  2015         0\n",
       "5905   \"@ClassySnobbb: @realDonaldTrump @FoxNews I'm ...  2015         0\n",
       "4360   Our great VETERANS are being treated very badl...  2015         0\n",
       "10281  Remember when failed candidate @JebBush said t...  2015         0\n",
       "8113             #MerryChristmas https://t.co/5GgDmJrGMS  2016         0\n",
       "18995  Merry Christmas and a very, very, very , very ...  2016         0\n",
       "9220   I hope everyone is having a great Christmas, t...  2017         0\n",
       "6712          MERRY CHRISTMAS!!! https://t.co/mYtV5GNdLl  2017         0\n",
       "6390   People are proud to be saying Merry Christmas ...  2017         0\n",
       "17297          MERRY CHRISTMAS!! https://t.co/xa2qxcisVV  2017         0\n",
       "14385                                   Merry Christmas!  2018         0\n",
       "18515  I hope everyone, even the Fake News Media, is ...  2018         1"
      ]
     },
     "execution_count": 67,
     "metadata": {},
     "output_type": "execute_result"
    }
   ],
   "source": [
    "# pull all tweets that went out on christmas\n",
    "pdata[(pdata.month == '12') & (pdata.day == '25')][['text','year','fn_count']].sort_values('year',ascending=True)"
   ]
  },
  {
   "cell_type": "code",
   "execution_count": 68,
   "metadata": {},
   "outputs": [
    {
     "data": {
      "text/plain": [
       "year_month\n",
       "2015_01     0\n",
       "2015_02     0\n",
       "2015_03     0\n",
       "2015_04     0\n",
       "2015_05     0\n",
       "2015_06     0\n",
       "2015_07     0\n",
       "2015_08     0\n",
       "2015_09     0\n",
       "2015_10     0\n",
       "2015_11     0\n",
       "2015_12     0\n",
       "2016_01     0\n",
       "2016_02     0\n",
       "2016_03     0\n",
       "2016_04     0\n",
       "2016_05     0\n",
       "2016_06     0\n",
       "2016_07     0\n",
       "2016_08     0\n",
       "2016_09     0\n",
       "2016_10     0\n",
       "2016_11     0\n",
       "2016_12     1\n",
       "2017_01    11\n",
       "2017_02    17\n",
       "2017_03     7\n",
       "2017_04     3\n",
       "2017_05    10\n",
       "2017_06    12\n",
       "2017_07    16\n",
       "2017_08    17\n",
       "2017_09     7\n",
       "2017_10    19\n",
       "2017_11     5\n",
       "2017_12    10\n",
       "2018_01     9\n",
       "2018_02     5\n",
       "2018_03     5\n",
       "2018_04    12\n",
       "2018_05     5\n",
       "2018_06    13\n",
       "2018_07    13\n",
       "2018_08    10\n",
       "2018_09     4\n",
       "2018_10     8\n",
       "2018_11     5\n",
       "2018_12     7\n",
       "2019_01    13\n",
       "2019_02     3\n",
       "2019_03     9\n",
       "2019_04     7\n",
       "2019_05     8\n",
       "2019_06    10\n",
       "2019_07    12\n",
       "2019_08    16\n",
       "2019_09    22\n",
       "2019_10    10\n",
       "2019_11     5\n",
       "Name: fn_count, dtype: int64"
      ]
     },
     "execution_count": 68,
     "metadata": {},
     "output_type": "execute_result"
    }
   ],
   "source": [
    "\n",
    "pdata['year_month'] = pdata['year'] + '_' + pdata['month']\n",
    "fn_count = pdata.groupby(by = ['year_month']).sum()['fn_count']\n",
    "fn_count\n"
   ]
  },
  {
   "cell_type": "code",
   "execution_count": 69,
   "metadata": {},
   "outputs": [
    {
     "data": {
      "image/png": "[encoded data removed]",
      "text/plain": [
       "<Figure size 1080x216 with 1 Axes>"
      ]
     },
     "metadata": {
      "needs_background": "light"
     },
     "output_type": "display_data"
    }
   ],
   "source": [
    "# adjust figure size\n",
    "fig = plt.figure(figsize=(15,3))\n",
    "axes = fig.add_axes()\n",
    "fn_count.plot(kind = 'bar')\n",
    "plt.title(\"Use of the term 'Fake News' in the last 5 years\")\n",
    "plt.xticks()\n",
    "plt.show()"
   ]
  }
 ],
 "metadata": {
  "kernelspec": {
   "display_name": "Python 3",
   "language": "python",
   "name": "python3"
  },
  "language_info": {
   "codemirror_mode": {
    "name": "ipython",
    "version": 3
   },
   "file_extension": ".py",
   "mimetype": "text/x-python",
   "name": "python",
   "nbconvert_exporter": "python",
   "pygments_lexer": "ipython3",
   "version": "3.6.9"
  }
 },
 "nbformat": 4,
 "nbformat_minor": 2
}
